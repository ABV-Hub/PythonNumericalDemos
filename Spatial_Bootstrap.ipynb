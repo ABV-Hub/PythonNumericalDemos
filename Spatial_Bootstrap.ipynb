{
 "cells": [
  {
   "cell_type": "markdown",
   "metadata": {},
   "source": [
    "## GeostatsPy: Basic Univariate Statistics and Distribution Plotting for Subsurface Data Analytics in Python \n",
    "\n",
    "\n",
    "### Michael Pyrcz, Associate Professor, University of Texas at Austin \n",
    "\n",
    "#### [Twitter](https://twitter.com/geostatsguy) | [GitHub](https://github.com/GeostatsGuy) | [Website](http://michaelpyrcz.com) | [GoogleScholar](https://scholar.google.com/citations?user=QVZ20eQAAAAJ&hl=en&oi=ao) | [Book](https://www.amazon.com/Geostatistical-Reservoir-Modeling-Michael-Pyrcz/dp/0199731446) | [YouTube](https://www.youtube.com/channel/UCLqEr-xV-ceHdXXXrTId5ig)  | [LinkedIn](https://www.linkedin.com/in/michael-pyrcz-61a648a1)"
   ]
  },
  {
   "cell_type": "markdown",
   "metadata": {},
   "source": [
    "Demonstration of Spatial Boostrap \n",
    "Contact: Michael Pyrcz, University of Texas at Austin, Geostatistics Course\n",
    "\n",
    "Steps:\n",
    "1. Build an initial sample set with $ndata$ samples.  Specify locations.  Sort the data in a data only array for \n",
    "   an equal weighted cumulative density function (CDF) for backtransform\n",
    "2. Calculate the covariance matrix (between the data) for LU simulation.  This provides a fast and easy method\n",
    "   to calculate spaitally correlated, unconditional, Gaussian realizations at the data locations.\n",
    "3. Perform LU (lower upper) decomposition of the covariance matrix.  Realizations only require L x random vector.\n",
    "4. Draw from this initial sample set, with replacement, $ndata$ times to build a new realization of the sample.  \n",
    "   Repeat this $nreal$ times to make realizations of the sample.  Use LU simulation to ensure spaital correlation \n",
    "   between samples.  Backtransform from Gaussian to original data values (use percentiles to sample).\n",
    "5. Calculate the statistic of interest for each realization. This demonstration considers the mean only.  \n",
    "   We could have considered any statistic including median, 13th percentile, skew etc. \n",
    "6. (and 7.) Quantify and visualize uncertainty with histograms and summary statistics.\n",
    "\n",
    "References:\n",
    "\n",
    "Efron, 1982, The jackknife, the bootstrap, and other resampling plans, Society of Industrial and Applied Math, \n",
    "CBMS-NSF Monographs, 38.\n",
    "\n",
    "Journel, A. G. Resampling from stochastic simulations. Environmental and Ecological Statistics, 1:63–84, 1994.\n",
    "\n",
    "#### Import Packages\n",
    "\n",
    "We will also need some standard packages. These should have been installed with Anaconda 3."
   ]
  },
  {
   "cell_type": "code",
   "execution_count": 1,
   "metadata": {},
   "outputs": [],
   "source": [
    "# Imports \n",
    "import pprint\n",
    "import math\n",
    "import scipy\n",
    "import scipy.linalg                # SciPy Linear Algebra Library\n",
    "from scipy.stats import norm\n",
    "import numpy as np\n",
    "import pandas as pd\n",
    "import matplotlib.pyplot as plt"
   ]
  },
  {
   "cell_type": "markdown",
   "metadata": {},
   "source": [
    "#### Set the working directory\n",
    "\n",
    "I always like to do this so I don't lose files and to simplify subsequent read and writes (avoid including the full address each time). "
   ]
  },
  {
   "cell_type": "code",
   "execution_count": 2,
   "metadata": {},
   "outputs": [
    {
     "ename": "NameError",
     "evalue": "name 'os' is not defined",
     "output_type": "error",
     "traceback": [
      "\u001b[1;31m---------------------------------------------------------------------------\u001b[0m",
      "\u001b[1;31mNameError\u001b[0m                                 Traceback (most recent call last)",
      "\u001b[1;32m<ipython-input-2-8e1ada8ab58b>\u001b[0m in \u001b[0;36m<module>\u001b[1;34m()\u001b[0m\n\u001b[1;32m----> 1\u001b[1;33m \u001b[0mos\u001b[0m\u001b[1;33m.\u001b[0m\u001b[0mchdir\u001b[0m\u001b[1;33m(\u001b[0m\u001b[1;34m\"c:/PGE383\"\u001b[0m\u001b[1;33m)\u001b[0m             \u001b[1;31m# set the working directory\u001b[0m\u001b[1;33m\u001b[0m\u001b[0m\n\u001b[0m",
      "\u001b[1;31mNameError\u001b[0m: name 'os' is not defined"
     ]
    }
   ],
   "source": [
    "os.chdir(\"c:/PGE383\")             # set the working directory"
   ]
  },
  {
   "cell_type": "markdown",
   "metadata": {},
   "source": [
    "#### Assume Data Values and Locations\n",
    "\n",
    "For demonstration I assume 4 data values in 2D and make a CDF by sorting for the back transform from Gaussian."
   ]
  },
  {
   "cell_type": "code",
   "execution_count": 6,
   "metadata": {},
   "outputs": [
    {
     "name": "stdout",
     "output_type": "stream",
     "text": [
      "[[25.  50.   2.3]\n",
      " [75.  80.   5.5]\n",
      " [10.  25.   7. ]\n",
      " [95.  15.   8.7]]\n",
      "[2.3 5.5 7.  8.7]\n"
     ]
    }
   ],
   "source": [
    "# 1. Make Spatial Dataset and Define Number of Realizations (just need a sufficient number to summarize uncertainty)\n",
    "nreal = 100                                               # User Specified\n",
    "# Assign Data Values - assume 4 data locations\n",
    "ndata = 4                                                 # User Specified\n",
    "output = np.zeros((ndata,nreal))  # x, y, value \n",
    "data = np.zeros((ndata,3))  # x, y, value \n",
    "data[0,0] = 25.0;  data[0,1] = 50.0;  data[0,2] = 2.3     # User Specified\n",
    "data[1,0] = 75.0;  data[1,1] = 80.0;  data[1,2] = 5.5     # User Specified\n",
    "data[2,0] = 10.0;  data[2,1] = 25.0;  data[2,2] = 7.0     # User Specified\n",
    "data[3,0] = 95.0;  data[3,1] = 15.0;  data[3,2] = 8.7     # User Specified\n",
    "# Set up backtransform lookup table\n",
    "value = np.zeros(ndata) \n",
    "for i in range(0, ndata):\n",
    "    value[i] = data[i,2]\n",
    "print(data) \n",
    "value.sort()\n",
    "print(value)\n",
    "\n",
    "# data in ascending "
   ]
  },
  {
   "cell_type": "markdown",
   "metadata": {},
   "source": [
    "#### Calculate the Covariance Matrix\n",
    "\n",
    "The covariance matrix is calculated from the distance matrix assuming a isotropic spherical variogram with range set as $var_range$. "
   ]
  },
  {
   "cell_type": "code",
   "execution_count": 7,
   "metadata": {},
   "outputs": [
    {
     "data": {
      "text/plain": [
       "array([[1.        , 0.2244834 , 0.57506938, 0.06574285],\n",
       "       [0.2244834 , 1.        , 0.03145365, 0.13715671],\n",
       "       [0.57506938, 0.03145365, 1.        , 0.0296663 ],\n",
       "       [0.06574285, 0.13715671, 0.0296663 , 1.        ]])"
      ]
     },
     "execution_count": 7,
     "metadata": {},
     "output_type": "execute_result"
    }
   ],
   "source": [
    "# 2. Calculate Symmetric Covariance Array - assuming variogram with spherical structure with range specified, var_range\n",
    "cov = np.zeros((ndata,ndata))\n",
    "var_range = 100.0                                          # User Specified\n",
    "for i in range(0, ndata):\n",
    "    for j in range(0, ndata):\n",
    "        distance = math.sqrt(math.pow((data[i,0]-data[j,0]),2) + math.pow((data[i,1]-data[j,1]),2))\n",
    "        cova = 0.0\n",
    "        if(distance < var_range):\n",
    "            hr = distance / var_range\n",
    "            cova = 1.0 - hr*(1.5 - 0.5*hr*hr)  # spherical structure, no nugget\n",
    "            cov[i,j] = cova\n",
    "cov"
   ]
  },
  {
   "cell_type": "markdown",
   "metadata": {},
   "source": [
    "#### LU Decomposition\n",
    "\n",
    "Peform LU decomposition to calculate the needed lower matrix $L$."
   ]
  },
  {
   "cell_type": "code",
   "execution_count": 8,
   "metadata": {},
   "outputs": [
    {
     "name": "stdout",
     "output_type": "stream",
     "text": [
      "[[ 1.          0.          0.          0.        ]\n",
      " [ 0.2244834   1.          0.          0.        ]\n",
      " [ 0.57506938 -0.10282133  1.          0.        ]\n",
      " [ 0.06574285  0.12889386  0.00674212  1.        ]]\n",
      "[[ 1.          0.2244834   0.57506938  0.06574285]\n",
      " [ 0.          0.9496072  -0.09763988  0.12239854]\n",
      " [ 0.          0.          0.65925575  0.00444478]\n",
      " [ 0.          0.          0.          0.97987149]]\n"
     ]
    }
   ],
   "source": [
    "# 3. Perform LU Decomposition using scipy (used tutorial at www.quantstart.com) \n",
    "P, L, U = scipy.linalg.lu(cov)\n",
    "print(L);  print(U)"
   ]
  },
  {
   "cell_type": "code",
   "execution_count": 9,
   "metadata": {},
   "outputs": [],
   "source": [
    "# Test the LU Decomposition (available for testing only)\n",
    "#Test = cov - np.matmul(L,U)\n",
    "#Test  # should be zeros"
   ]
  },
  {
   "cell_type": "markdown",
   "metadata": {},
   "source": [
    "#### Calculate the Realizations\n",
    "\n",
    "The following steps:\n",
    "\n",
    "1. Matrix multiplication of the nxn lower matrix with a 1D matrix of random standard normal values to calculate a realization with spatial correlation at data locations $i = 0,\\ldots,n-1$.\n",
    "\n",
    "2. Convert to p-values with the standard normal CDF\n",
    "\n",
    "3. Transform to discrete values in the data CDF.\n",
    "\n",
    "Realizations stored in output."
   ]
  },
  {
   "cell_type": "code",
   "execution_count": 10,
   "metadata": {},
   "outputs": [
    {
     "data": {
      "text/plain": [
       "7.0"
      ]
     },
     "execution_count": 10,
     "metadata": {},
     "output_type": "execute_result"
    }
   ],
   "source": [
    "# 4. Calculate Unconditional Realization at the Specified Locations from the Data Distribution with Replacement\n",
    "#    Realizations in Gaussian space are converted to p-values and then applied to draw from the original distribution\n",
    "rand = np.zeros(ndata); pvalue = np.zeros(ndata)\n",
    "for ireal in range(0, nreal):    \n",
    "    for i in range(0, ndata):\n",
    "        rand[i] = np.random.normal()\n",
    "    realization = np.matmul(L,rand)\n",
    "# Convert to p-values    \n",
    "    for i in range(0, ndata):\n",
    "        pvalue[i] = norm.cdf(realization[i])\n",
    "# Complete backtransform by selecting percentiles from original cdf (drawing with replacement from provided data values)       \n",
    "        index = int(round( ndata * pvalue[i] - 0.5))\n",
    "        output[i,ireal] = value[index]\n",
    "idata = 0; ireal = 0\n",
    "output[idata,ireal]"
   ]
  },
  {
   "cell_type": "markdown",
   "metadata": {},
   "source": [
    "#### Calculate the Target Statistic for Each Realization"
   ]
  },
  {
   "cell_type": "code",
   "execution_count": 11,
   "metadata": {},
   "outputs": [
    {
     "data": {
      "text/plain": [
       "array([5.875, 4.7  , 3.1  , 5.875, 6.675, 6.25 , 6.675, 6.25 , 6.25 ,\n",
       "       5.875, 7.1  , 6.675, 5.875, 7.9  , 5.075, 6.675, 4.65 , 5.875,\n",
       "       7.85 , 5.45 , 8.275, 7.05 , 5.875, 3.9  , 5.075, 3.1  , 8.7  ,\n",
       "       7.85 , 6.675, 6.25 , 8.275, 5.45 , 8.7  , 7.05 , 8.275, 7.475,\n",
       "       5.5  , 6.675, 7.05 , 4.7  , 7.475, 5.075, 5.075, 5.875, 6.3  ,\n",
       "       3.9  , 5.875, 7.05 , 5.075, 8.275, 7.475, 4.65 , 6.3  , 5.45 ,\n",
       "       8.275, 5.45 , 7.475, 8.275, 7.1  , 7.85 , 5.875, 7.05 , 5.075,\n",
       "       7.05 , 6.625, 6.3  , 6.3  , 3.1  , 4.275, 6.3  , 3.9  , 6.3  ,\n",
       "       5.875, 5.875, 8.275, 5.45 , 7.475, 6.25 , 5.875, 6.25 , 4.7  ,\n",
       "       5.825, 4.275, 7.475, 8.275, 3.9  , 7.475, 5.5  , 4.275, 4.7  ,\n",
       "       5.875, 6.25 , 5.075, 3.1  , 3.475, 5.075, 8.275, 6.3  , 3.475,\n",
       "       4.275])"
      ]
     },
     "execution_count": 11,
     "metadata": {},
     "output_type": "execute_result"
    }
   ],
   "source": [
    "# 5. Calculate the summary statistic of interest (mean only for this example)\n",
    "# Any summary statistic may be calculated.\n",
    "summary = np.zeros(nreal) \n",
    "for ireal in range(0, nreal): \n",
    "    mean = 0\n",
    "    for i in range(0, ndata):\n",
    "        mean = mean + output[i,ireal]    \n",
    "    mean = mean / ndata\n",
    "    summary[ireal] = mean\n",
    "summary"
   ]
  },
  {
   "cell_type": "code",
   "execution_count": 12,
   "metadata": {},
   "outputs": [
    {
     "name": "stderr",
     "output_type": "stream",
     "text": [
      "C:\\Users\\pm27995\\AppData\\Local\\Continuum\\anaconda3\\lib\\site-packages\\matplotlib\\axes\\_axes.py:6462: UserWarning: The 'normed' kwarg is deprecated, and has been replaced by the 'density' kwarg.\n",
      "  warnings.warn(\"The 'normed' kwarg is deprecated, and has been \"\n"
     ]
    },
    {
     "data": {
      "image/png": "[encoded data removed]",
      "text/plain": [
       "<Figure size 432x288 with 1 Axes>"
      ]
     },
     "metadata": {},
     "output_type": "display_data"
    }
   ],
   "source": [
    "# 6. Visualize the summary statistic, calculate the variance or any other measure of spread to represent uncertainty in\n",
    "#    the summary statistic.\n",
    "plt.hist(summary,bins=20,normed=True)\n",
    "plt.title(\"Spatial Bootstrap Resamples of Mean\")\n",
    "plt.xlabel(\"Mean\")\n",
    "plt.ylabel(\"Frequency\")\n",
    "plt.show()"
   ]
  },
  {
   "cell_type": "code",
   "execution_count": 13,
   "metadata": {},
   "outputs": [
    {
     "data": {
      "text/html": [
       "<div>\n",
       "<style scoped>\n",
       "    .dataframe tbody tr th:only-of-type {\n",
       "        vertical-align: middle;\n",
       "    }\n",
       "\n",
       "    .dataframe tbody tr th {\n",
       "        vertical-align: top;\n",
       "    }\n",
       "\n",
       "    .dataframe thead th {\n",
       "        text-align: right;\n",
       "    }\n",
       "</style>\n",
       "<table border=\"1\" class=\"dataframe\">\n",
       "  <thead>\n",
       "    <tr style=\"text-align: right;\">\n",
       "      <th></th>\n",
       "      <th>mean</th>\n",
       "    </tr>\n",
       "  </thead>\n",
       "  <tbody>\n",
       "    <tr>\n",
       "      <th>count</th>\n",
       "      <td>100.00000</td>\n",
       "    </tr>\n",
       "    <tr>\n",
       "      <th>mean</th>\n",
       "      <td>6.07875</td>\n",
       "    </tr>\n",
       "    <tr>\n",
       "      <th>std</th>\n",
       "      <td>1.41530</td>\n",
       "    </tr>\n",
       "    <tr>\n",
       "      <th>min</th>\n",
       "      <td>3.10000</td>\n",
       "    </tr>\n",
       "    <tr>\n",
       "      <th>25%</th>\n",
       "      <td>5.07500</td>\n",
       "    </tr>\n",
       "    <tr>\n",
       "      <th>50%</th>\n",
       "      <td>6.25000</td>\n",
       "    </tr>\n",
       "    <tr>\n",
       "      <th>75%</th>\n",
       "      <td>7.05000</td>\n",
       "    </tr>\n",
       "    <tr>\n",
       "      <th>max</th>\n",
       "      <td>8.70000</td>\n",
       "    </tr>\n",
       "  </tbody>\n",
       "</table>\n",
       "</div>"
      ],
      "text/plain": [
       "            mean\n",
       "count  100.00000\n",
       "mean     6.07875\n",
       "std      1.41530\n",
       "min      3.10000\n",
       "25%      5.07500\n",
       "50%      6.25000\n",
       "75%      7.05000\n",
       "max      8.70000"
      ]
     },
     "execution_count": 13,
     "metadata": {},
     "output_type": "execute_result"
    }
   ],
   "source": [
    "# 7. Summary statistics to describe uncertainty in the mean from bootstrap\n",
    "columns = ['mean']\n",
    "df_mean = pd.DataFrame(summary,columns=columns)\n",
    "df_mean.describe()"
   ]
  },
  {
   "cell_type": "markdown",
   "metadata": {},
   "source": [
    "#### Summary of Exercise\n",
    "\n",
    "What did we learn?\n",
    "1. Uncertainty decreases rapidly as the number of data samples increases.\n",
    "2. Bootstrap result for uncertainty in the mean is the same as standard error if uncorrelated and more if spatially correlated.\n",
    "3. Spatial bootstrap provides uncertainty in any statistic.\n",
    "4. Spatial bootstrap does account for spatial context, location of data and spatial correlation.  Resampling from realizations\n",
    "   taught by Journel is available to account for spatial trends, conditioning data, and secondary information."
   ]
  },
  {
   "cell_type": "markdown",
   "metadata": {},
   "source": [
    "#### Comments\n",
    "\n",
    "This was a basic demonstration of spatial bootstrap. Much more could be done, I have other demonstrations on basics of working with DataFrames, ndarrays and many other workflows availble at https://github.com/GeostatsGuy/PythonNumericalDemos and https://github.com/GeostatsGuy/GeostatsPy.\n",
    "\n",
    "I hope this was helpful,\n",
    "\n",
    "*Michael*\n",
    "\n",
    "Michael Pyrcz, Ph.D., P.Eng. Associate Professor The Hildebrand Department of Petroleum and Geosystems Engineering, Bureau of Economic Geology, The Jackson School of Geosciences, The University of Texas at Austin\n",
    "\n",
    "#### More Resources Available at: [Twitter](https://twitter.com/geostatsguy) | [GitHub](https://github.com/GeostatsGuy) | [Website](http://michaelpyrcz.com) | [GoogleScholar](https://scholar.google.com/citations?user=QVZ20eQAAAAJ&hl=en&oi=ao) | [Book](https://www.amazon.com/Geostatistical-Reservoir-Modeling-Michael-Pyrcz/dp/0199731446) | [YouTube](https://www.youtube.com/channel/UCLqEr-xV-ceHdXXXrTId5ig)  | [LinkedIn](https://www.linkedin.com/in/michael-pyrcz-61a648a1)"
   ]
  },
  {
   "cell_type": "code",
   "execution_count": null,
   "metadata": {},
   "outputs": [],
   "source": []
  }
 ],
 "metadata": {
  "kernelspec": {
   "display_name": "Python 3",
   "language": "python",
   "name": "python3"
  },
  "language_info": {
   "codemirror_mode": {
    "name": "ipython",
    "version": 3
   },
   "file_extension": ".py",
   "mimetype": "text/x-python",
   "name": "python",
   "nbconvert_exporter": "python",
   "pygments_lexer": "ipython3",
   "version": "3.6.5"
  }
 },
 "nbformat": 4,
 "nbformat_minor": 2
}
