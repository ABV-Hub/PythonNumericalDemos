{
 "cells": [
  {
   "cell_type": "markdown",
   "metadata": {},
   "source": [
    "<p align=\"center\">\n",
    "    <img src=\"https://github.com/GeostatsGuy/GeostatsPy/blob/master/TCG_color_logo.png?raw=true\" width=\"220\" height=\"240\" />\n",
    "\n",
    "</p>\n",
    "\n",
    "## Subsurface Data Analytics \n",
    "\n",
    "### Polygonal Regression for Subsurface Data Analytics in Python \n",
    "\n",
    "\n",
    "#### Michael Pyrcz, Associate Professor, University of Texas at Austin \n",
    "\n",
    "##### [Twitter](https://twitter.com/geostatsguy) | [GitHub](https://github.com/GeostatsGuy) | [Website](http://michaelpyrcz.com) | [GoogleScholar](https://scholar.google.com/citations?user=QVZ20eQAAAAJ&hl=en&oi=ao) | [Book](https://www.amazon.com/Geostatistical-Reservoir-Modeling-Michael-Pyrcz/dp/0199731446) | [YouTube](https://www.youtube.com/channel/UCLqEr-xV-ceHdXXXrTId5ig)  | [LinkedIn](https://www.linkedin.com/in/michael-pyrcz-61a648a1)\n",
    "\n"
   ]
  },
  {
   "cell_type": "markdown",
   "metadata": {},
   "source": [
    "\n",
    "### PGE 383 Exercise: Polygonal Regression for Subsurface Modeling in Python \n",
    "\n",
    "Here's a simple workflow, demonstration of polygonalregression for subsurface modeling workflows. This should help you get started with building subsurface models that data analytics and machine learning. Here's some basic details about linear regression. \n",
    "\n",
    "\n",
    "## Linear Regression in Python for Engineers, Data Scientists and Geoscientists \n",
    "### Michael Pyrcz, Associate Professor, University of Texas at Austin \n",
    "\n",
    "#### Contacts: [Twitter/@GeostatsGuy](https://twitter.com/geostatsguy) | [GitHub/GeostatsGuy](https://github.com/GeostatsGuy) | [www.michaelpyrcz.com](http://michaelpyrcz.com) | [GoogleScholar](https://scholar.google.com/citations?user=QVZ20eQAAAAJ&hl=en&oi=ao) | [Book](https://www.amazon.com/Geostatistical-Reservoir-Modeling-Michael-Pyrcz/dp/0199731446)\n",
    "\n",
    "Here's a simple workflow, demonstration of linear regression for subsurface modeling workflows. This should help you get started with building subsurface models that data analytics and machine learning. Here's some basic details about linear regression.  \n",
    "\n",
    "#### Linear Regression\n",
    "\n",
    "Linear regression for prediction.  Here are some key aspects of linear regression:\n",
    "\n",
    "**Parametric Model**\n",
    "\n",
    "* the fit model is a simple weighted linear additive model based on all the available features, $x_1,\\ldots,x_m$.\n",
    "\n",
    "* the model takes the form of $y = \\sum_{\\alpha = 1}^m b_{\\alpha} x_{\\alpha} + b_0$\n",
    "\n",
    "**Least Squares**\n",
    "\n",
    "* least squares optimization is applied to select the model parameters, $b_1,\\ldots,b_m,b_0$ \n",
    "\n",
    "* we minize the error over the trainind data $\\sum_{i=1}^n (y_i - (\\sum_{\\alpha = 1}^m b_{\\alpha} x_{\\alpha} + b_0))^2$\n",
    "\n",
    "* this could be simplified as the sum of square error over the training data, $\\sum_{i=1}^n (\\Delta y_i)^2$\n",
    "\n",
    "**Assumptions**\n",
    "\n",
    "* **Error-free** - predictor variables are error free, not random variables \n",
    "* **Linearity** - response is linear combination of feature(s)\n",
    "* **Constant Variance** - error in response is constant over predictor(s) value\n",
    "* **Independence of Error** - error in response are uncorrelated with each other\n",
    "* **No multicollinearity** - none of the features are redundant with other features \n",
    "\n",
    "#### Polygonal Regression\n",
    "\n",
    "It can be shown that polygonal regression is just linear regression applied to a polygonal expansion of the predictor features.\n",
    "\n",
    "\\begin{equation}\n",
    "X_{j} \\rightarrow X_{j}, X_{j}^2, X_{j}^3, \\ldots X_{j}^k \n",
    "\\end{equation}\n",
    "\n",
    "where we have $j = 1, \\ldots, m$ original features.\n",
    "\n",
    "We now have a expanded set of predictor features.\n",
    "\n",
    "\\begin{equation}\n",
    "h_{j,k}(X_j) = X_j^k \n",
    "\\end{equation}\n",
    "\n",
    "were we have $j = 1, \\ldots, m$ original features and $k = 1, \\ldots, K$ polynomial orders.  \n",
    "\n",
    "We can now state our model as a linear regression of the transformed features.\n",
    "\n",
    "\\begin{equation}\n",
    "y = f(x) = \\sum_{j=1}^{m} \\sum_{k = 1}^{K} \\beta_{j,k} h_{j,m}(X_j)\n",
    "\\end{equation}\n",
    "\n",
    "So our workflow is:\n",
    "\n",
    "* apply polynomial basis expansion\n",
    "\n",
    "* perform linear regression\n",
    "\n",
    "#### Other Resources\n",
    "\n",
    "This is a tutorial / demonstration of **Linear Regression**.  In $Python$, the $SciPy$ package, specifically the $Stats$ functions (https://docs.scipy.org/doc/scipy/reference/stats.html) provide excellent tools for efficient use of statistics.  \n",
    "I have previously provided this example in R and posted it on GitHub:\n",
    "\n",
    "1. R https://github.com/GeostatsGuy/geostatsr/blob/master/linear_regression_demo_v2.R\n",
    "2. Rmd with docs https://github.com/GeostatsGuy/geostatsr/blob/master/linear_regression_demo_v2.Rmd \n",
    "3. knit as an HTML document(https://github.com/GeostatsGuy/geostatsr/blob/master/linear_regression_demo_v2.html) \n",
    "\n",
    "#### Workflow Goals\n",
    "\n",
    "Learn the basics of time series analysis in Python to for analysis, modeling and prediction with production data. This includes:\n",
    "\n",
    "* Basic Python workflows and data preparation\n",
    "\n",
    "* Training / fitting a linear regression model\n",
    "\n",
    "* Model Checking\n",
    "\n",
    "#### Objective \n",
    "\n",
    "In the PGE 383: Stochastic Subsurface Modeling class I want to provide hands-on experience with building subsurface modeling workflows. Python provides an excellent vehicle to accomplish this. I have coded a package called GeostatsPy with GSLIB: Geostatistical Library (Deutsch and Journel, 1998) functionality that provides basic building blocks for building subsurface modeling workflows. \n",
    "\n",
    "The objective is to remove the hurdles of subsurface modeling workflow construction by providing building blocks and sufficient examples. This is not a coding class per se, but we need the ability to 'script' workflows working with numerical methods.    \n",
    "\n",
    "#### Getting Started\n",
    "\n",
    "Here's the steps to get setup in Python with the GeostatsPy package:\n",
    "\n",
    "1. Install Anaconda 3 on your machine (https://www.anaconda.com/download/). \n",
    "2. From Anaconda Navigator (within Anaconda3 group), go to the environment tab, click on base (root) green arrow and open a terminal. \n",
    "3. In the terminal type: pip install geostatspy. \n",
    "4. Open Jupyter and in the top block get started by copy and pasting the code block below from this Jupyter Notebook to start using the geostatspy functionality. \n",
    "\n",
    "There are examples below with these functions. You can go here to see a list of the available functions, https://git.io/fh4eX, other example workflows and source code. \n",
    "\n",
    "#### Import Required Packages\n",
    "\n",
    "Let's import the GeostatsPy package."
   ]
  },
  {
   "cell_type": "code",
   "execution_count": 120,
   "metadata": {},
   "outputs": [],
   "source": [
    "import os                                                   # to set current working directory \n",
    "import numpy as np                                          # arrays and matrix math\n",
    "import scipy.stats as st                                    # statistical methods\n",
    "import pandas as pd                                         # DataFrames\n",
    "import matplotlib.pyplot as plt                             # for plotting\n",
    "from sklearn.linear_model import LinearRegression           # linear regression with scikit learn\n",
    "from sklearn.preprocessing import PolynomialFeatures        # polynomial basis expansion\n",
    "from scipy import stats                                     # statistical summary from a 2D ndarray"
   ]
  },
  {
   "cell_type": "markdown",
   "metadata": {},
   "source": [
    "If you get a package import error, you may have to first install some of these packages. This can usually be accomplished by opening up a command window on Windows and then typing 'python -m pip install [package-name]'. More assistance is available with the respective package docs.  "
   ]
  },
  {
   "cell_type": "markdown",
   "metadata": {},
   "source": [
    "#### Set the working directory\n",
    "\n",
    "I always like to do this so I don't lose files and to simplify subsequent read and writes (avoid including the full address each time).  Also, in this case make sure to place the required (see below) data file in this working directory.  "
   ]
  },
  {
   "cell_type": "code",
   "execution_count": 121,
   "metadata": {},
   "outputs": [],
   "source": [
    "os.chdir(\"c:/PGE337\")                                  # set the working directory"
   ]
  },
  {
   "cell_type": "markdown",
   "metadata": {},
   "source": [
    "#### Loading Data\n",
    "\n",
    "Let's load the provided dataset. 'Density_Por_data.csv' is available at https://github.com/GeostatsGuy/GeoDataSets. It is a comma delimited file with 20 density measures ($\\frac{g}{cm^3}$) and porosity measures from 2 rock units from the subsurface, porosity (as a fraction). We load it with the pandas 'read_csv' function into a data frame we called 'df' and then preview it by printing a slice and by utilizing the 'head' DataFrame member function (with a nice and clean format, see below).\n"
   ]
  },
  {
   "cell_type": "code",
   "execution_count": 124,
   "metadata": {
    "scrolled": false
   },
   "outputs": [
    {
     "data": {
      "text/html": [
       "<div>\n",
       "<style scoped>\n",
       "    .dataframe tbody tr th:only-of-type {\n",
       "        vertical-align: middle;\n",
       "    }\n",
       "\n",
       "    .dataframe tbody tr th {\n",
       "        vertical-align: top;\n",
       "    }\n",
       "\n",
       "    .dataframe thead th {\n",
       "        text-align: right;\n",
       "    }\n",
       "</style>\n",
       "<table border=\"1\" class=\"dataframe\">\n",
       "  <thead>\n",
       "    <tr style=\"text-align: right;\">\n",
       "      <th></th>\n",
       "      <th>Depth</th>\n",
       "      <th>Nporosity</th>\n",
       "    </tr>\n",
       "  </thead>\n",
       "  <tbody>\n",
       "    <tr>\n",
       "      <th>0</th>\n",
       "      <td>0.25</td>\n",
       "      <td>-1.37</td>\n",
       "    </tr>\n",
       "    <tr>\n",
       "      <th>1</th>\n",
       "      <td>0.50</td>\n",
       "      <td>-2.08</td>\n",
       "    </tr>\n",
       "    <tr>\n",
       "      <th>2</th>\n",
       "      <td>0.75</td>\n",
       "      <td>-1.67</td>\n",
       "    </tr>\n",
       "    <tr>\n",
       "      <th>3</th>\n",
       "      <td>1.00</td>\n",
       "      <td>-1.16</td>\n",
       "    </tr>\n",
       "    <tr>\n",
       "      <th>4</th>\n",
       "      <td>1.25</td>\n",
       "      <td>-0.24</td>\n",
       "    </tr>\n",
       "  </tbody>\n",
       "</table>\n",
       "</div>"
      ],
      "text/plain": [
       "   Depth  Nporosity\n",
       "0   0.25      -1.37\n",
       "1   0.50      -2.08\n",
       "2   0.75      -1.67\n",
       "3   1.00      -1.16\n",
       "4   1.25      -0.24"
      ]
     },
     "execution_count": 124,
     "metadata": {},
     "output_type": "execute_result"
    }
   ],
   "source": [
    "df = pd.read_csv(\"1D_Porosity.csv\")                    # read a .csv file in as a DataFrame                                     # display first 4 samples in the table as a preview\n",
    "df.head()                                                   # we could also use this command for a table preview "
   ]
  },
  {
   "cell_type": "markdown",
   "metadata": {},
   "source": [
    "It is useful to review the summary statistics of our loaded DataFrame.  That can be accomplished with the 'describe' DataFrame member function.  We transpose to switch the axes for ease of visualization."
   ]
  },
  {
   "cell_type": "code",
   "execution_count": 125,
   "metadata": {},
   "outputs": [
    {
     "data": {
      "text/html": [
       "<div>\n",
       "<style scoped>\n",
       "    .dataframe tbody tr th:only-of-type {\n",
       "        vertical-align: middle;\n",
       "    }\n",
       "\n",
       "    .dataframe tbody tr th {\n",
       "        vertical-align: top;\n",
       "    }\n",
       "\n",
       "    .dataframe thead th {\n",
       "        text-align: right;\n",
       "    }\n",
       "</style>\n",
       "<table border=\"1\" class=\"dataframe\">\n",
       "  <thead>\n",
       "    <tr style=\"text-align: right;\">\n",
       "      <th></th>\n",
       "      <th>count</th>\n",
       "      <th>mean</th>\n",
       "      <th>std</th>\n",
       "      <th>min</th>\n",
       "      <th>25%</th>\n",
       "      <th>50%</th>\n",
       "      <th>75%</th>\n",
       "      <th>max</th>\n",
       "    </tr>\n",
       "  </thead>\n",
       "  <tbody>\n",
       "    <tr>\n",
       "      <th>Depth</th>\n",
       "      <td>40.0</td>\n",
       "      <td>5.12500</td>\n",
       "      <td>2.922613</td>\n",
       "      <td>0.25</td>\n",
       "      <td>2.6875</td>\n",
       "      <td>5.125</td>\n",
       "      <td>7.5625</td>\n",
       "      <td>10.00</td>\n",
       "    </tr>\n",
       "    <tr>\n",
       "      <th>Nporosity</th>\n",
       "      <td>40.0</td>\n",
       "      <td>0.02225</td>\n",
       "      <td>0.992111</td>\n",
       "      <td>-2.08</td>\n",
       "      <td>-0.7575</td>\n",
       "      <td>0.140</td>\n",
       "      <td>0.7425</td>\n",
       "      <td>2.35</td>\n",
       "    </tr>\n",
       "  </tbody>\n",
       "</table>\n",
       "</div>"
      ],
      "text/plain": [
       "           count     mean       std   min     25%    50%     75%    max\n",
       "Depth       40.0  5.12500  2.922613  0.25  2.6875  5.125  7.5625  10.00\n",
       "Nporosity   40.0  0.02225  0.992111 -2.08 -0.7575  0.140  0.7425   2.35"
      ]
     },
     "execution_count": 125,
     "metadata": {},
     "output_type": "execute_result"
    }
   ],
   "source": [
    "df.describe().transpose()   "
   ]
  },
  {
   "cell_type": "markdown",
   "metadata": {},
   "source": [
    "Here we extract the X1 and X2 unit porosity samples from the DataFrame into separate arrays called 'X1' and 'X2' for convenience."
   ]
  },
  {
   "cell_type": "code",
   "execution_count": 126,
   "metadata": {},
   "outputs": [],
   "source": [
    "Npor = df['Nporosity']\n",
    "depth = df['Depth']"
   ]
  },
  {
   "cell_type": "markdown",
   "metadata": {},
   "source": [
    "#### Liner Regression Model\n",
    "\n",
    "Let's first calculate the linear regression model\n",
    "\n"
   ]
  },
  {
   "cell_type": "code",
   "execution_count": 127,
   "metadata": {},
   "outputs": [
    {
     "name": "stdout",
     "output_type": "stream",
     "text": [
      "The model parameters are, slope (b1) = 0.14, and the intercept (b0) = -0.69\n"
     ]
    }
   ],
   "source": [
    "lin = LinearRegression() \n",
    "lin.fit(depth.values.reshape(-1, 1), Npor) \n",
    "slope = lin.coef_[0]\n",
    "intercept = lin.intercept_\n",
    "\n",
    "print('The model parameters are, slope (b1) = ' + str(round(slope,2)) + ', and the intercept (b0) = ' + str(round(intercept,2)))"
   ]
  },
  {
   "cell_type": "markdown",
   "metadata": {},
   "source": [
    "Let's plot the data and the model."
   ]
  },
  {
   "cell_type": "code",
   "execution_count": 128,
   "metadata": {},
   "outputs": [
    {
     "data": {
      "image/png": "[encoded data removed]",
      "text/plain": [
       "<Figure size 432x288 with 1 Axes>"
      ]
     },
     "metadata": {},
     "output_type": "display_data"
    }
   ],
   "source": [
    "depth_values = np.linspace(0.0,10.0,100)\n",
    "plt.subplot(111)\n",
    "plt.plot(depth, Npor, 'o', label='sample data', color = 'red', alpha = 0.2, markeredgecolor = 'black')\n",
    "plt.plot(depth_values, intercept + slope*depth_values, label='model', color = 'black')\n",
    "plt.title('NPorosity vs Depth')\n",
    "plt.xlabel('Depth (m)')\n",
    "plt.ylabel('NPorosity')\n",
    "plt.legend()\n",
    "plt.subplots_adjust(left=0.0, bottom=0.0, right=2.0, top=1.0, wspace=0.2, hspace=0.2)\n",
    "plt.show()"
   ]
  },
  {
   "cell_type": "markdown",
   "metadata": {},
   "source": [
    "#### Standardized Features\n",
    "\n",
    "Let's work with standardized features.\n"
   ]
  },
  {
   "cell_type": "code",
   "execution_count": 180,
   "metadata": {},
   "outputs": [
    {
     "data": {
      "text/html": [
       "<div>\n",
       "<style scoped>\n",
       "    .dataframe tbody tr th:only-of-type {\n",
       "        vertical-align: middle;\n",
       "    }\n",
       "\n",
       "    .dataframe tbody tr th {\n",
       "        vertical-align: top;\n",
       "    }\n",
       "\n",
       "    .dataframe thead th {\n",
       "        text-align: right;\n",
       "    }\n",
       "</style>\n",
       "<table border=\"1\" class=\"dataframe\">\n",
       "  <thead>\n",
       "    <tr style=\"text-align: right;\">\n",
       "      <th></th>\n",
       "      <th>Depth</th>\n",
       "      <th>Nporosity</th>\n",
       "    </tr>\n",
       "  </thead>\n",
       "  <tbody>\n",
       "    <tr>\n",
       "      <th>0</th>\n",
       "      <td>-1.689278</td>\n",
       "      <td>-1.421198</td>\n",
       "    </tr>\n",
       "    <tr>\n",
       "      <th>1</th>\n",
       "      <td>-1.602648</td>\n",
       "      <td>-2.145960</td>\n",
       "    </tr>\n",
       "    <tr>\n",
       "      <th>2</th>\n",
       "      <td>-1.516018</td>\n",
       "      <td>-1.727436</td>\n",
       "    </tr>\n",
       "    <tr>\n",
       "      <th>3</th>\n",
       "      <td>-1.429389</td>\n",
       "      <td>-1.206832</td>\n",
       "    </tr>\n",
       "    <tr>\n",
       "      <th>4</th>\n",
       "      <td>-1.342759</td>\n",
       "      <td>-0.267703</td>\n",
       "    </tr>\n",
       "  </tbody>\n",
       "</table>\n",
       "</div>"
      ],
      "text/plain": [
       "      Depth  Nporosity\n",
       "0 -1.689278  -1.421198\n",
       "1 -1.602648  -2.145960\n",
       "2 -1.516018  -1.727436\n",
       "3 -1.429389  -1.206832\n",
       "4 -1.342759  -0.267703"
      ]
     },
     "execution_count": 180,
     "metadata": {},
     "output_type": "execute_result"
    }
   ],
   "source": [
    "from sklearn.preprocessing import StandardScaler\n",
    "\n",
    "scaler = StandardScaler()                                   # instantiate the scaler \n",
    "sfeatures = scaler.fit_transform(df.values)              # standardize all the values extracted from the DataFrame \n",
    "df_st = pd.DataFrame()                                     # instantiate a new DataFrame\n",
    "df_st = pd.DataFrame(sfeatures, index=df.index, columns=df.columns) # copy the standardized values into the new DataFrame\n",
    "depth_st = df_st['Depth']\n",
    "Npor_st = df_st['Nporosity']\n",
    "df_st.head()                                               # preview the the new DataFrame"
   ]
  },
  {
   "cell_type": "markdown",
   "metadata": {},
   "source": [
    "#### Linear Regression Model with Standardized Features\n",
    "\n",
    "Let's repeat the lienar regression model, now with the standardized features."
   ]
  },
  {
   "cell_type": "code",
   "execution_count": 131,
   "metadata": {},
   "outputs": [],
   "source": [
    "lin_st = LinearRegression() \n",
    "lin_st.fit(depth_st.values.reshape(-1, 1), Npor_st) \n",
    "slope_st = lin_st.coef_[0]\n",
    "intercept_st = lin_st.intercept_"
   ]
  },
  {
   "cell_type": "markdown",
   "metadata": {},
   "source": [
    "Now visualize the model. \n",
    "\n",
    "* Quite a poor fit"
   ]
  },
  {
   "cell_type": "code",
   "execution_count": 243,
   "metadata": {},
   "outputs": [
    {
     "data": {
      "image/png": "[encoded data removed]",
      "text/plain": [
       "<Figure size 432x288 with 1 Axes>"
      ]
     },
     "metadata": {},
     "output_type": "display_data"
    }
   ],
   "source": [
    "depth_st_values = np.linspace(-3.0,3.0,100)\n",
    "plt.subplot(111)\n",
    "plt.plot(depth_st, Npor_st, 'o', label='sample data', color = 'red', alpha = 0.2, markeredgecolor = 'black')\n",
    "plt.plot(depth_st_values, intercept_st + slope_st*den_st_values, label='model', color = 'black')\n",
    "plt.title('Standardized Porosity vs Standardized Depth')\n",
    "plt.xlabel('Standardized Depth')\n",
    "plt.ylabel('Standardized Porosity')\n",
    "plt.legend(); plt.xlim(-2,2)\n",
    "plt.subplots_adjust(left=0.0, bottom=0.0, right=2.0, top=1.0, wspace=0.2, hspace=0.2)\n",
    "plt.show()"
   ]
  },
  {
   "cell_type": "markdown",
   "metadata": {},
   "source": [
    "#### Polygonal Regression \n",
    "\n",
    "We will do polygonal regression by hand:\n",
    "\n",
    "* create the polygonal basis expansion of the original predictor feature\n",
    "\n",
    "* perform linear regression on the polygonal basis expansion"
   ]
  },
  {
   "cell_type": "code",
   "execution_count": 208,
   "metadata": {},
   "outputs": [
    {
     "data": {
      "text/html": [
       "<div>\n",
       "<style scoped>\n",
       "    .dataframe tbody tr th:only-of-type {\n",
       "        vertical-align: middle;\n",
       "    }\n",
       "\n",
       "    .dataframe tbody tr th {\n",
       "        vertical-align: top;\n",
       "    }\n",
       "\n",
       "    .dataframe thead th {\n",
       "        text-align: right;\n",
       "    }\n",
       "</style>\n",
       "<table border=\"1\" class=\"dataframe\">\n",
       "  <thead>\n",
       "    <tr style=\"text-align: right;\">\n",
       "      <th></th>\n",
       "      <th>Values</th>\n",
       "      <th>0th</th>\n",
       "      <th>1st</th>\n",
       "      <th>2nd</th>\n",
       "      <th>3rd</th>\n",
       "      <th>4th</th>\n",
       "    </tr>\n",
       "  </thead>\n",
       "  <tbody>\n",
       "    <tr>\n",
       "      <th>0</th>\n",
       "      <td>-1.689278</td>\n",
       "      <td>1.0</td>\n",
       "      <td>-1.689278</td>\n",
       "      <td>2.853659</td>\n",
       "      <td>-4.820621</td>\n",
       "      <td>8.143367</td>\n",
       "    </tr>\n",
       "    <tr>\n",
       "      <th>1</th>\n",
       "      <td>-1.602648</td>\n",
       "      <td>1.0</td>\n",
       "      <td>-1.602648</td>\n",
       "      <td>2.568480</td>\n",
       "      <td>-4.116370</td>\n",
       "      <td>6.597091</td>\n",
       "    </tr>\n",
       "    <tr>\n",
       "      <th>2</th>\n",
       "      <td>-1.516018</td>\n",
       "      <td>1.0</td>\n",
       "      <td>-1.516018</td>\n",
       "      <td>2.298311</td>\n",
       "      <td>-3.484282</td>\n",
       "      <td>5.282235</td>\n",
       "    </tr>\n",
       "    <tr>\n",
       "      <th>3</th>\n",
       "      <td>-1.429389</td>\n",
       "      <td>1.0</td>\n",
       "      <td>-1.429389</td>\n",
       "      <td>2.043152</td>\n",
       "      <td>-2.920458</td>\n",
       "      <td>4.174470</td>\n",
       "    </tr>\n",
       "    <tr>\n",
       "      <th>4</th>\n",
       "      <td>-1.342759</td>\n",
       "      <td>1.0</td>\n",
       "      <td>-1.342759</td>\n",
       "      <td>1.803002</td>\n",
       "      <td>-2.420997</td>\n",
       "      <td>3.250816</td>\n",
       "    </tr>\n",
       "  </tbody>\n",
       "</table>\n",
       "</div>"
      ],
      "text/plain": [
       "     Values  0th       1st       2nd       3rd       4th\n",
       "0 -1.689278  1.0 -1.689278  2.853659 -4.820621  8.143367\n",
       "1 -1.602648  1.0 -1.602648  2.568480 -4.116370  6.597091\n",
       "2 -1.516018  1.0 -1.516018  2.298311 -3.484282  5.282235\n",
       "3 -1.429389  1.0 -1.429389  2.043152 -2.920458  4.174470\n",
       "4 -1.342759  1.0 -1.342759  1.803002 -2.420997  3.250816"
      ]
     },
     "execution_count": 208,
     "metadata": {},
     "output_type": "execute_result"
    }
   ],
   "source": [
    "poly4 = PolynomialFeatures(degree = 4) \n",
    "depth_st_poly4 = poly4.fit_transform(depth_st.values.reshape(-1, 1)) \n",
    "df_depth_st_poly4 = pd.DataFrame({'Values':depth_st.values,'0th': depth_st_poly4[:,0],'1st': depth_st_poly4[:,1],'2nd': depth_st_poly4[:,2], '3rd': depth_st_poly4[:,3], '4th': depth_st_poly4[:,4]}) # make a new DataFrame from the vectors\n",
    "df_depth_st_poly4.head()"
   ]
  },
  {
   "cell_type": "markdown",
   "metadata": {},
   "source": [
    "Now let's check the correlation between the polygonal basis expansion of the original predictor features data."
   ]
  },
  {
   "cell_type": "code",
   "execution_count": 209,
   "metadata": {},
   "outputs": [
    {
     "data": {
      "text/html": [
       "<div>\n",
       "<style scoped>\n",
       "    .dataframe tbody tr th:only-of-type {\n",
       "        vertical-align: middle;\n",
       "    }\n",
       "\n",
       "    .dataframe tbody tr th {\n",
       "        vertical-align: top;\n",
       "    }\n",
       "\n",
       "    .dataframe thead th {\n",
       "        text-align: right;\n",
       "    }\n",
       "</style>\n",
       "<table border=\"1\" class=\"dataframe\">\n",
       "  <thead>\n",
       "    <tr style=\"text-align: right;\">\n",
       "      <th></th>\n",
       "      <th>1st</th>\n",
       "      <th>2nd</th>\n",
       "      <th>3rd</th>\n",
       "      <th>4th</th>\n",
       "    </tr>\n",
       "  </thead>\n",
       "  <tbody>\n",
       "    <tr>\n",
       "      <th>1st</th>\n",
       "      <td>1.000000e+00</td>\n",
       "      <td>3.727299e-17</td>\n",
       "      <td>9.168975e-01</td>\n",
       "      <td>-1.856753e-17</td>\n",
       "    </tr>\n",
       "    <tr>\n",
       "      <th>2nd</th>\n",
       "      <td>3.727299e-17</td>\n",
       "      <td>1.000000e+00</td>\n",
       "      <td>0.000000e+00</td>\n",
       "      <td>9.587146e-01</td>\n",
       "    </tr>\n",
       "    <tr>\n",
       "      <th>3rd</th>\n",
       "      <td>9.168975e-01</td>\n",
       "      <td>0.000000e+00</td>\n",
       "      <td>1.000000e+00</td>\n",
       "      <td>1.893192e-17</td>\n",
       "    </tr>\n",
       "    <tr>\n",
       "      <th>4th</th>\n",
       "      <td>-1.856753e-17</td>\n",
       "      <td>9.587146e-01</td>\n",
       "      <td>1.893192e-17</td>\n",
       "      <td>1.000000e+00</td>\n",
       "    </tr>\n",
       "  </tbody>\n",
       "</table>\n",
       "</div>"
      ],
      "text/plain": [
       "              1st           2nd           3rd           4th\n",
       "1st  1.000000e+00  3.727299e-17  9.168975e-01 -1.856753e-17\n",
       "2nd  3.727299e-17  1.000000e+00  0.000000e+00  9.587146e-01\n",
       "3rd  9.168975e-01  0.000000e+00  1.000000e+00  1.893192e-17\n",
       "4th -1.856753e-17  9.587146e-01  1.893192e-17  1.000000e+00"
      ]
     },
     "execution_count": 209,
     "metadata": {},
     "output_type": "execute_result"
    }
   ],
   "source": [
    "df_depth_st_poly4.iloc[:,2:].corr()"
   ]
  },
  {
   "cell_type": "markdown",
   "metadata": {},
   "source": [
    "Let's visualize the polygonal expansion over the standardized depth."
   ]
  },
  {
   "cell_type": "code",
   "execution_count": 245,
   "metadata": {},
   "outputs": [
    {
     "data": {
      "image/png": "[encoded data removed]",
      "text/plain": [
       "<Figure size 432x288 with 1 Axes>"
      ]
     },
     "metadata": {},
     "output_type": "display_data"
    }
   ],
   "source": [
    "plt.subplot(111)\n",
    "plt.plot(depth_st_values, poly4.fit_transform(depth_st_values.reshape(-1, 1)) [:,0], label='0th', color = 'black')\n",
    "plt.plot(depth_st_values, poly4.fit_transform(depth_st_values.reshape(-1, 1)) [:,1], label='1th', color = 'blue')\n",
    "plt.plot(depth_st_values, poly4.fit_transform(depth_st_values.reshape(-1, 1)) [:,2], label='2th', color = 'green')\n",
    "plt.plot(depth_st_values, poly4.fit_transform(depth_st_values.reshape(-1, 1)) [:,3], label='3th', color = 'red')\n",
    "plt.plot(depth_st_values, poly4.fit_transform(depth_st_values.reshape(-1, 1)) [:,4], label='4th', color = 'orange') \n",
    "plt.title('Polygonal Expansion vs Standardized Depth')\n",
    "plt.xlabel('Standardize Depth')\n",
    "plt.ylabel('h(x)')\n",
    "plt.legend(); plt.xlim(-3,3)\n",
    "plt.subplots_adjust(left=0.0, bottom=0.0, right=2.0, top=1.0, wspace=0.2, hspace=0.2)\n",
    "plt.show()"
   ]
  },
  {
   "cell_type": "markdown",
   "metadata": {},
   "source": [
    "We can also check the arithmetic average of each polygonal basis expansion."
   ]
  },
  {
   "cell_type": "code",
   "execution_count": 211,
   "metadata": {},
   "outputs": [
    {
     "name": "stdout",
     "output_type": "stream",
     "text": [
      "The means of each basis expansion, 0 - 4th order = [1.00000000e+00 4.44089210e-17 1.00000000e+00 4.44089210e-17\n",
      " 1.79849906e+00].\n"
     ]
    }
   ],
   "source": [
    "print('The means of each basis expansion, 0 - 4th order = ' + str(stats.describe(depth_st_poly4)[2]) + '.')"
   ]
  },
  {
   "cell_type": "markdown",
   "metadata": {},
   "source": [
    "Let's fit the linear regression model to the polygonal basis expansion.\n",
    "\n",
    "* note the model is quite flexible to fit this complicated / nonlinear data"
   ]
  },
  {
   "cell_type": "code",
   "execution_count": 239,
   "metadata": {},
   "outputs": [
    {
     "data": {
      "image/png": "[encoded data removed]",
      "text/plain": [
       "<Figure size 432x288 with 1 Axes>"
      ]
     },
     "metadata": {},
     "output_type": "display_data"
    }
   ],
   "source": [
    "lin_poly4 = LinearRegression() \n",
    "lin_poly4.fit(df_depth_st_poly4.iloc[:,1:], Npor_st) \n",
    "plt.subplot(111)\n",
    "plt.plot(depth_st_values, lin_poly4.predict(poly4.fit_transform(depth_st_values.reshape(-1, 1))), label='4th order',color = 'red') \n",
    "plt.plot(depth_st, Npor_st, 'o', label='sample data', color = 'red', alpha = 0.2, markeredgecolor = 'black')\n",
    "plt.title('Standardized Porosity vs Standardized Depth')\n",
    "plt.xlabel('Standardized Depth')\n",
    "plt.ylabel('Standardized Porosity')\n",
    "plt.xlim(-2,2); plt.ylim(-2,2)\n",
    "plt.legend()\n",
    "plt.subplots_adjust(left=0.0, bottom=0.0, right=2.0, top=1.0, wspace=0.2, hspace=0.2)\n",
    "plt.show()"
   ]
  },
  {
   "cell_type": "markdown",
   "metadata": {},
   "source": [
    "#### Regression with Hermite Basis Expansion\n",
    "\n",
    "We can use Hermite polynomials to reduce the correlation between the basis predictor features."
   ]
  },
  {
   "cell_type": "code",
   "execution_count": 303,
   "metadata": {},
   "outputs": [
    {
     "data": {
      "text/html": [
       "<div>\n",
       "<style scoped>\n",
       "    .dataframe tbody tr th:only-of-type {\n",
       "        vertical-align: middle;\n",
       "    }\n",
       "\n",
       "    .dataframe tbody tr th {\n",
       "        vertical-align: top;\n",
       "    }\n",
       "\n",
       "    .dataframe thead th {\n",
       "        text-align: right;\n",
       "    }\n",
       "</style>\n",
       "<table border=\"1\" class=\"dataframe\">\n",
       "  <thead>\n",
       "    <tr style=\"text-align: right;\">\n",
       "      <th></th>\n",
       "      <th>value</th>\n",
       "      <th>0th</th>\n",
       "      <th>1st</th>\n",
       "      <th>2nd</th>\n",
       "      <th>3rd</th>\n",
       "      <th>4th</th>\n",
       "    </tr>\n",
       "  </thead>\n",
       "  <tbody>\n",
       "    <tr>\n",
       "      <th>0</th>\n",
       "      <td>-1.689278</td>\n",
       "      <td>1.0</td>\n",
       "      <td>-1.689278</td>\n",
       "      <td>1.853659</td>\n",
       "      <td>0.247211</td>\n",
       "      <td>-5.978584</td>\n",
       "    </tr>\n",
       "    <tr>\n",
       "      <th>1</th>\n",
       "      <td>-1.602648</td>\n",
       "      <td>1.0</td>\n",
       "      <td>-1.602648</td>\n",
       "      <td>1.568480</td>\n",
       "      <td>0.691574</td>\n",
       "      <td>-5.813791</td>\n",
       "    </tr>\n",
       "    <tr>\n",
       "      <th>2</th>\n",
       "      <td>-1.516018</td>\n",
       "      <td>1.0</td>\n",
       "      <td>-1.516018</td>\n",
       "      <td>1.298311</td>\n",
       "      <td>1.063773</td>\n",
       "      <td>-5.507633</td>\n",
       "    </tr>\n",
       "    <tr>\n",
       "      <th>3</th>\n",
       "      <td>-1.429389</td>\n",
       "      <td>1.0</td>\n",
       "      <td>-1.429389</td>\n",
       "      <td>1.043152</td>\n",
       "      <td>1.367708</td>\n",
       "      <td>-5.084442</td>\n",
       "    </tr>\n",
       "    <tr>\n",
       "      <th>4</th>\n",
       "      <td>-1.342759</td>\n",
       "      <td>1.0</td>\n",
       "      <td>-1.342759</td>\n",
       "      <td>0.803002</td>\n",
       "      <td>1.607280</td>\n",
       "      <td>-4.567195</td>\n",
       "    </tr>\n",
       "  </tbody>\n",
       "</table>\n",
       "</div>"
      ],
      "text/plain": [
       "      value  0th       1st       2nd       3rd       4th\n",
       "0 -1.689278  1.0 -1.689278  1.853659  0.247211 -5.978584\n",
       "1 -1.602648  1.0 -1.602648  1.568480  0.691574 -5.813791\n",
       "2 -1.516018  1.0 -1.516018  1.298311  1.063773 -5.507633\n",
       "3 -1.429389  1.0 -1.429389  1.043152  1.367708 -5.084442\n",
       "4 -1.342759  1.0 -1.342759  0.803002  1.607280 -4.567195"
      ]
     },
     "execution_count": 303,
     "metadata": {},
     "output_type": "execute_result"
    }
   ],
   "source": [
    "import scipy\n",
    "orders4 = [0,1,2,3,4]\n",
    "depth_hermite4 = scipy.special.eval_hermitenorm(orders4, depth_st.values.reshape(-1, 1), out=None) \n",
    "df_depth_hermite4 = pd.DataFrame({'value':depth_st.values,'0th': depth_hermite4[:,0],'1st': depth_hermite4[:,1],'2nd': depth_hermite4[:,2], '3rd': depth_hermite4[:,3], '4th': depth_hermite4[:,4]}) # make a new DataFrame from the vectors\n",
    "df_depth_hermite4.head()"
   ]
  },
  {
   "cell_type": "markdown",
   "metadata": {},
   "source": [
    "Let's check the correlation between the Hermite predictor features. There is improvement."
   ]
  },
  {
   "cell_type": "code",
   "execution_count": 311,
   "metadata": {},
   "outputs": [
    {
     "data": {
      "text/html": [
       "<div>\n",
       "<style scoped>\n",
       "    .dataframe tbody tr th:only-of-type {\n",
       "        vertical-align: middle;\n",
       "    }\n",
       "\n",
       "    .dataframe tbody tr th {\n",
       "        vertical-align: top;\n",
       "    }\n",
       "\n",
       "    .dataframe thead th {\n",
       "        text-align: right;\n",
       "    }\n",
       "</style>\n",
       "<table border=\"1\" class=\"dataframe\">\n",
       "  <thead>\n",
       "    <tr style=\"text-align: right;\">\n",
       "      <th></th>\n",
       "      <th>1st</th>\n",
       "      <th>2nd</th>\n",
       "      <th>3rd</th>\n",
       "      <th>4th</th>\n",
       "    </tr>\n",
       "  </thead>\n",
       "  <tbody>\n",
       "    <tr>\n",
       "      <th>1st</th>\n",
       "      <td>1.000000e+00</td>\n",
       "      <td>-8.697032e-17</td>\n",
       "      <td>-8.378359e-01</td>\n",
       "      <td>-1.412950e-17</td>\n",
       "    </tr>\n",
       "    <tr>\n",
       "      <th>2nd</th>\n",
       "      <td>-8.697032e-17</td>\n",
       "      <td>1.000000e+00</td>\n",
       "      <td>-2.165947e-18</td>\n",
       "      <td>-9.763049e-01</td>\n",
       "    </tr>\n",
       "    <tr>\n",
       "      <th>3rd</th>\n",
       "      <td>-8.378359e-01</td>\n",
       "      <td>-2.165947e-18</td>\n",
       "      <td>1.000000e+00</td>\n",
       "      <td>3.694817e-18</td>\n",
       "    </tr>\n",
       "    <tr>\n",
       "      <th>4th</th>\n",
       "      <td>-1.412950e-17</td>\n",
       "      <td>-9.763049e-01</td>\n",
       "      <td>3.694817e-18</td>\n",
       "      <td>1.000000e+00</td>\n",
       "    </tr>\n",
       "  </tbody>\n",
       "</table>\n",
       "</div>"
      ],
      "text/plain": [
       "              1st           2nd           3rd           4th\n",
       "1st  1.000000e+00 -8.697032e-17 -8.378359e-01 -1.412950e-17\n",
       "2nd -8.697032e-17  1.000000e+00 -2.165947e-18 -9.763049e-01\n",
       "3rd -8.378359e-01 -2.165947e-18  1.000000e+00  3.694817e-18\n",
       "4th -1.412950e-17 -9.763049e-01  3.694817e-18  1.000000e+00"
      ]
     },
     "execution_count": 311,
     "metadata": {},
     "output_type": "execute_result"
    }
   ],
   "source": [
    "df_depth_hermite4.iloc[:,2:].corr()"
   ]
  },
  {
   "cell_type": "markdown",
   "metadata": {},
   "source": [
    "We can check the arithmetic averages of all the hermite basis expansions."
   ]
  },
  {
   "cell_type": "code",
   "execution_count": 305,
   "metadata": {},
   "outputs": [
    {
     "name": "stdout",
     "output_type": "stream",
     "text": [
      "The means of each basis expansion, 0 - 4th order = [1.00000000e+00 4.44089210e-17 1.00000000e+00 4.44089210e-17\n",
      " 1.79849906e+00].\n"
     ]
    }
   ],
   "source": [
    "print('The means of each basis expansion, 0 - 4th order = ' + str(stats.describe(depth_st_poly4)[2]) + '.')"
   ]
  },
  {
   "cell_type": "markdown",
   "metadata": {},
   "source": [
    "Let's visualize Hermite polynomials over the range of the standardized depth."
   ]
  },
  {
   "cell_type": "code",
   "execution_count": 306,
   "metadata": {},
   "outputs": [
    {
     "data": {
      "image/png": "[encoded data removed]",
      "text/plain": [
       "<Figure size 432x288 with 1 Axes>"
      ]
     },
     "metadata": {},
     "output_type": "display_data"
    }
   ],
   "source": [
    "plt.subplot(111)\n",
    "plt.plot(depth_st_values, scipy.special.eval_hermite(orders4, depth_st_values.reshape(-1, 1)) [:,0], label='0th', color = 'black')\n",
    "plt.plot(depth_st_values, scipy.special.eval_hermite(orders4, depth_st_values.reshape(-1, 1)) [:,1], label='1st', color = 'blue')\n",
    "plt.plot(depth_st_values, scipy.special.eval_hermite(orders4, depth_st_values.reshape(-1, 1)) [:,2], label='2nd', color = 'green')\n",
    "plt.plot(depth_st_values, scipy.special.eval_hermite(orders4, depth_st_values.reshape(-1, 1)) [:,3], label='3rd', color = 'red')\n",
    "plt.plot(depth_st_values, scipy.special.eval_hermite(orders4, depth_st_values.reshape(-1, 1)) [:,4], label='4th', color = 'orange')\n",
    "plt.title('Hermite Expansion vs Standardized Depth')\n",
    "plt.xlabel('Standardized Depth')\n",
    "plt.ylabel('h(x)')\n",
    "plt.legend(); plt.ylim(-200,200); plt.xlim(-3,3)\n",
    "plt.subplots_adjust(left=0.0, bottom=0.0, right=2.0, top=1.0, wspace=0.2, hspace=0.2)\n",
    "plt.show()"
   ]
  },
  {
   "cell_type": "markdown",
   "metadata": {},
   "source": [
    "Now let's fit our Hermite basis regression model."
   ]
  },
  {
   "cell_type": "code",
   "execution_count": 308,
   "metadata": {},
   "outputs": [
    {
     "data": {
      "image/png": "[encoded data removed]",
      "text/plain": [
       "<Figure size 432x288 with 1 Axes>"
      ]
     },
     "metadata": {},
     "output_type": "display_data"
    }
   ],
   "source": [
    "lin_herm4 = LinearRegression() \n",
    "lin_herm4.fit(df_depth_hermite4.iloc[:,1:], Npor_st) \n",
    "plt.subplot(111)\n",
    "plt.plot(depth_st_values, lin_herm4.predict(scipy.special.eval_hermitenorm(orders4, depth_st_values.reshape(-1, 1), out=None)), label='4th order',color = 'red') \n",
    "plt.plot(depth_st, Npor_st, 'o', label='sample data', color = 'red', alpha = 0.2, markeredgecolor = 'black')\n",
    "plt.title('Hermite Polynomial: Standardized Porosity vs Standardized Depth')\n",
    "plt.xlabel('Standardized Depth')\n",
    "plt.ylabel('Standardized Porosity')\n",
    "plt.xlim(-2,2); plt.ylim(-2,2)\n",
    "plt.legend()\n",
    "plt.subplots_adjust(left=0.0, bottom=0.0, right=2.0, top=1.0, wspace=0.2, hspace=0.2)\n",
    "plt.show()"
   ]
  },
  {
   "cell_type": "markdown",
   "metadata": {},
   "source": [
    "#### TO BE COMPLETED: Orthogonal Polynomials"
   ]
  },
  {
   "cell_type": "code",
   "execution_count": 296,
   "metadata": {},
   "outputs": [],
   "source": [
    "import numpy as np\n",
    "\n",
    "def ortho_poly_fit(x, degree = 1):\n",
    "    n = degree + 1\n",
    "    x = np.asarray(x).flatten()\n",
    "    if(degree >= len(np.unique(x))):\n",
    "            stop(\"'degree' must be less than number of unique points\")\n",
    "    xbar = np.mean(x)\n",
    "    x = x - xbar\n",
    "    X = np.fliplr(np.vander(x, n))\n",
    "    q,r = np.linalg.qr(X)\n",
    "\n",
    "    z = np.diag(np.diag(r))\n",
    "    raw = np.dot(q, z)\n",
    "\n",
    "    norm2 = np.sum(raw**2, axis=0)\n",
    "    alpha = (np.sum((raw**2)*np.reshape(x,(-1,1)), axis=0)/norm2 + xbar)[:degree]\n",
    "    Z = raw / np.sqrt(norm2)\n",
    "    return Z, norm2, alpha\n",
    "\n",
    "def ortho_poly_predict(x, alpha, norm2, degree = 1):\n",
    "    x = np.asarray(x).flatten()\n",
    "    n = degree + 1\n",
    "    Z = np.empty((len(x), n))\n",
    "    Z[:,0] = 1\n",
    "    if degree > 0:\n",
    "        Z[:, 1] = x - alpha[0]\n",
    "    if degree > 1:\n",
    "      for i in np.arange(1,degree):\n",
    "          Z[:, i+1] = (x - alpha[i]) * Z[:, i] - (norm2[i] / norm2[i-1]) * Z[:, i-1]\n",
    "    Z /= np.sqrt(norm2)\n",
    "    return Z"
   ]
  },
  {
   "cell_type": "code",
   "execution_count": null,
   "metadata": {},
   "outputs": [],
   "source": []
  },
  {
   "cell_type": "code",
   "execution_count": 297,
   "metadata": {},
   "outputs": [
    {
     "data": {
      "text/html": [
       "<div>\n",
       "<style scoped>\n",
       "    .dataframe tbody tr th:only-of-type {\n",
       "        vertical-align: middle;\n",
       "    }\n",
       "\n",
       "    .dataframe tbody tr th {\n",
       "        vertical-align: top;\n",
       "    }\n",
       "\n",
       "    .dataframe thead th {\n",
       "        text-align: right;\n",
       "    }\n",
       "</style>\n",
       "<table border=\"1\" class=\"dataframe\">\n",
       "  <thead>\n",
       "    <tr style=\"text-align: right;\">\n",
       "      <th></th>\n",
       "      <th>value</th>\n",
       "      <th>0th</th>\n",
       "      <th>1st</th>\n",
       "      <th>2nd</th>\n",
       "      <th>3rd</th>\n",
       "      <th>4th</th>\n",
       "    </tr>\n",
       "  </thead>\n",
       "  <tbody>\n",
       "    <tr>\n",
       "      <th>0</th>\n",
       "      <td>-1.689278</td>\n",
       "      <td>0.158114</td>\n",
       "      <td>-0.267098</td>\n",
       "      <td>0.327991</td>\n",
       "      <td>-0.359992</td>\n",
       "      <td>0.369224</td>\n",
       "    </tr>\n",
       "    <tr>\n",
       "      <th>1</th>\n",
       "      <td>-1.602648</td>\n",
       "      <td>0.158114</td>\n",
       "      <td>-0.253401</td>\n",
       "      <td>0.277531</td>\n",
       "      <td>-0.249225</td>\n",
       "      <td>0.179879</td>\n",
       "    </tr>\n",
       "    <tr>\n",
       "      <th>2</th>\n",
       "      <td>-1.516018</td>\n",
       "      <td>0.158114</td>\n",
       "      <td>-0.239704</td>\n",
       "      <td>0.229727</td>\n",
       "      <td>-0.153033</td>\n",
       "      <td>0.035378</td>\n",
       "    </tr>\n",
       "    <tr>\n",
       "      <th>3</th>\n",
       "      <td>-1.429389</td>\n",
       "      <td>0.158114</td>\n",
       "      <td>-0.226006</td>\n",
       "      <td>0.184578</td>\n",
       "      <td>-0.070628</td>\n",
       "      <td>-0.069934</td>\n",
       "    </tr>\n",
       "    <tr>\n",
       "      <th>4</th>\n",
       "      <td>-1.342759</td>\n",
       "      <td>0.158114</td>\n",
       "      <td>-0.212309</td>\n",
       "      <td>0.142085</td>\n",
       "      <td>-0.001221</td>\n",
       "      <td>-0.141399</td>\n",
       "    </tr>\n",
       "  </tbody>\n",
       "</table>\n",
       "</div>"
      ],
      "text/plain": [
       "      value       0th       1st       2nd       3rd       4th\n",
       "0 -1.689278  0.158114 -0.267098  0.327991 -0.359992  0.369224\n",
       "1 -1.602648  0.158114 -0.253401  0.277531 -0.249225  0.179879\n",
       "2 -1.516018  0.158114 -0.239704  0.229727 -0.153033  0.035378\n",
       "3 -1.429389  0.158114 -0.226006  0.184578 -0.070628 -0.069934\n",
       "4 -1.342759  0.158114 -0.212309  0.142085 -0.001221 -0.141399"
      ]
     },
     "execution_count": 297,
     "metadata": {},
     "output_type": "execute_result"
    }
   ],
   "source": [
    "depth_ortho4 = ortho_poly_fit(depth_st.values.reshape(-1, 1), degree = 4)[0]\n",
    "df_depth_ortho4 = pd.DataFrame({'value':depth_st.values,'0th': depth_ortho4[:,0],'1st': depth_ortho4[:,1],'2nd': depth_ortho4[:,2], '3rd': depth_ortho4[:,3], '4th': depth_ortho4[:,4]}) # make a new DataFrame from the vectors\n",
    "df_depth_ortho4.head()"
   ]
  },
  {
   "cell_type": "code",
   "execution_count": null,
   "metadata": {},
   "outputs": [],
   "source": []
  },
  {
   "cell_type": "code",
   "execution_count": 298,
   "metadata": {},
   "outputs": [
    {
     "data": {
      "text/html": [
       "<div>\n",
       "<style scoped>\n",
       "    .dataframe tbody tr th:only-of-type {\n",
       "        vertical-align: middle;\n",
       "    }\n",
       "\n",
       "    .dataframe tbody tr th {\n",
       "        vertical-align: top;\n",
       "    }\n",
       "\n",
       "    .dataframe thead th {\n",
       "        text-align: right;\n",
       "    }\n",
       "</style>\n",
       "<table border=\"1\" class=\"dataframe\">\n",
       "  <thead>\n",
       "    <tr style=\"text-align: right;\">\n",
       "      <th></th>\n",
       "      <th>1st</th>\n",
       "      <th>2nd</th>\n",
       "      <th>3rd</th>\n",
       "      <th>4th</th>\n",
       "    </tr>\n",
       "  </thead>\n",
       "  <tbody>\n",
       "    <tr>\n",
       "      <th>1st</th>\n",
       "      <td>1.000000e+00</td>\n",
       "      <td>4.163336e-17</td>\n",
       "      <td>0.000000e+00</td>\n",
       "      <td>4.163336e-17</td>\n",
       "    </tr>\n",
       "    <tr>\n",
       "      <th>2nd</th>\n",
       "      <td>4.163336e-17</td>\n",
       "      <td>1.000000e+00</td>\n",
       "      <td>-8.326673e-17</td>\n",
       "      <td>-1.526557e-16</td>\n",
       "    </tr>\n",
       "    <tr>\n",
       "      <th>3rd</th>\n",
       "      <td>0.000000e+00</td>\n",
       "      <td>-8.326673e-17</td>\n",
       "      <td>1.000000e+00</td>\n",
       "      <td>2.775558e-17</td>\n",
       "    </tr>\n",
       "    <tr>\n",
       "      <th>4th</th>\n",
       "      <td>4.163336e-17</td>\n",
       "      <td>-1.526557e-16</td>\n",
       "      <td>2.775558e-17</td>\n",
       "      <td>1.000000e+00</td>\n",
       "    </tr>\n",
       "  </tbody>\n",
       "</table>\n",
       "</div>"
      ],
      "text/plain": [
       "              1st           2nd           3rd           4th\n",
       "1st  1.000000e+00  4.163336e-17  0.000000e+00  4.163336e-17\n",
       "2nd  4.163336e-17  1.000000e+00 -8.326673e-17 -1.526557e-16\n",
       "3rd  0.000000e+00 -8.326673e-17  1.000000e+00  2.775558e-17\n",
       "4th  4.163336e-17 -1.526557e-16  2.775558e-17  1.000000e+00"
      ]
     },
     "execution_count": 298,
     "metadata": {},
     "output_type": "execute_result"
    }
   ],
   "source": [
    "df_depth_ortho4.iloc[:,2:].corr()"
   ]
  },
  {
   "cell_type": "markdown",
   "metadata": {},
   "source": []
  },
  {
   "cell_type": "code",
   "execution_count": 299,
   "metadata": {},
   "outputs": [
    {
     "data": {
      "image/png": "[encoded data removed]",
      "text/plain": [
       "<Figure size 432x288 with 1 Axes>"
      ]
     },
     "metadata": {},
     "output_type": "display_data"
    }
   ],
   "source": [
    "plt.subplot(111)\n",
    "plt.plot(depth_st_values, ortho_poly_fit(depth_st_values.reshape(-1, 1), degree = 4)[0][:,0], label='0th', color = 'black')\n",
    "plt.plot(depth_st_values, ortho_poly_fit(depth_st_values.reshape(-1, 1), degree = 4)[0][:,1], label='1th', color = 'blue')\n",
    "plt.plot(depth_st_values, ortho_poly_fit(depth_st_values.reshape(-1, 1), degree = 4)[0][:,2], label='2th', color = 'green')\n",
    "plt.plot(depth_st_values, ortho_poly_fit(depth_st_values.reshape(-1, 1), degree = 4)[0][:,3], label='4th', color = 'red')\n",
    "plt.plot(depth_st_values, ortho_poly_fit(depth_st_values.reshape(-1, 1), degree = 4)[0][:,4], label='5th', color = 'orange')\n",
    "plt.title('Orthogonal Polygon Expansion vs Standardized Depth')\n",
    "plt.xlabel('Density (g/cm3)')\n",
    "plt.ylabel('h(x)')\n",
    "plt.legend(); plt.ylim(-.5,.5); plt.xlim(-3,3)\n",
    "plt.subplots_adjust(left=0.0, bottom=0.0, right=2.0, top=1.0, wspace=0.2, hspace=0.2)\n",
    "plt.show()"
   ]
  },
  {
   "cell_type": "code",
   "execution_count": null,
   "metadata": {},
   "outputs": [],
   "source": []
  },
  {
   "cell_type": "code",
   "execution_count": 300,
   "metadata": {},
   "outputs": [
    {
     "data": {
      "image/png": "[encoded data removed]",
      "text/plain": [
       "<Figure size 432x288 with 1 Axes>"
      ]
     },
     "metadata": {},
     "output_type": "display_data"
    }
   ],
   "source": [
    "lin_ortho4 = LinearRegression() \n",
    "lin_ortho4.fit(df_depth_ortho4.iloc[:,1:], Npor_st) \n",
    "plt.subplot(111)\n",
    "plt.plot(depth_st_values, lin_ortho4.predict(ortho_poly_fit(depth_st_values.reshape(-1, 1), degree = 4)[0]), label='4th order',color = 'red') \n",
    "plt.plot(depth_st, Npor_st, 'o', label='sample data', color = 'red', alpha = 0.2, markeredgecolor = 'black')\n",
    "plt.title('Hermite Polynomial: Porosity vs Density')\n",
    "plt.xlabel('Density (g/cm3)')\n",
    "plt.ylabel('Porosity (%)')\n",
    "plt.xlim(-2,2); plt.ylim(-2,2)\n",
    "plt.legend()\n",
    "plt.subplots_adjust(left=0.0, bottom=0.0, right=2.0, top=1.0, wspace=0.2, hspace=0.2)\n",
    "plt.show()"
   ]
  },
  {
   "cell_type": "markdown",
   "metadata": {},
   "source": [
    "#### Comments\n",
    "\n",
    "Polygonal regression is a flexible method for modeling nonlinear data and it introduces the concept of basis expansion. There will be more on this later. I hope this was helpful,\n",
    "\n",
    "*Michael*\n",
    "\n",
    "Michael Pyrcz, Ph.D., P.Eng. Associate Professor The Hildebrand Department of Petroleum and Geosystems Engineering, Bureau of Economic Geology, The Jackson School of Geosciences, The University of Texas at Austin\n",
    "On twitter I'm the @GeostatsGuy.\n",
    "\n",
    "\n",
    "***\n",
    "\n",
    "#### More on Michael Pyrcz and the Texas Center for Geostatistics:\n",
    "\n",
    "### Michael Pyrcz, Associate Professor, University of Texas at Austin \n",
    "*Novel Data Analytics, Geostatistics and Machine Learning Subsurface Solutions*\n",
    "\n",
    "With over 17 years of experience in subsurface consulting, research and development, Michael has returned to academia driven by his passion for teaching and enthusiasm for enhancing engineers' and geoscientists' impact in subsurface resource development. \n",
    "\n",
    "For more about Michael check out these links:\n",
    "\n",
    "#### [Twitter](https://twitter.com/geostatsguy) | [GitHub](https://github.com/GeostatsGuy) | [Website](http://michaelpyrcz.com) | [GoogleScholar](https://scholar.google.com/citations?user=QVZ20eQAAAAJ&hl=en&oi=ao) | [Book](https://www.amazon.com/Geostatistical-Reservoir-Modeling-Michael-Pyrcz/dp/0199731446) | [YouTube](https://www.youtube.com/channel/UCLqEr-xV-ceHdXXXrTId5ig)  | [LinkedIn](https://www.linkedin.com/in/michael-pyrcz-61a648a1)\n",
    "\n",
    "#### Want to Work Together?\n",
    "\n",
    "I hope this content is helpful to those that want to learn more about subsurface modeling, data analytics and machine learning. Students and working professionals are welcome to participate.\n",
    "\n",
    "* Want to invite me to visit your company for training, mentoring, project review, workflow design and / or consulting? I'd be happy to drop by and work with you! \n",
    "\n",
    "* Interested in partnering, supporting my graduate student research or my Subsurface Data Analytics and Machine Learning consortium (co-PIs including Profs. Foster, Torres-Verdin and van Oort)? My research combines data analytics, stochastic modeling and machine learning theory with practice to develop novel methods and workflows to add value. We are solving challenging subsurface problems!\n",
    "\n",
    "* I can be reached at mpyrcz@austin.utexas.edu.\n",
    "\n",
    "I'm always happy to discuss,\n",
    "\n",
    "*Michael*\n",
    "\n",
    "Michael Pyrcz, Ph.D., P.Eng. Associate Professor The Hildebrand Department of Petroleum and Geosystems Engineering, Bureau of Economic Geology, The Jackson School of Geosciences, The University of Texas at Austin\n",
    "\n",
    "#### More Resources Available at: [Twitter](https://twitter.com/geostatsguy) | [GitHub](https://github.com/GeostatsGuy) | [Website](http://michaelpyrcz.com) | [GoogleScholar](https://scholar.google.com/citations?user=QVZ20eQAAAAJ&hl=en&oi=ao) | [Book](https://www.amazon.com/Geostatistical-Reservoir-Modeling-Michael-Pyrcz/dp/0199731446) | [YouTube](https://www.youtube.com/channel/UCLqEr-xV-ceHdXXXrTId5ig)  | [LinkedIn](https://www.linkedin.com/in/michael-pyrcz-61a648a1)\n"
   ]
  },
  {
   "cell_type": "code",
   "execution_count": null,
   "metadata": {},
   "outputs": [],
   "source": []
  }
 ],
 "metadata": {
  "kernelspec": {
   "display_name": "Python 3",
   "language": "python",
   "name": "python3"
  },
  "language_info": {
   "codemirror_mode": {
    "name": "ipython",
    "version": 3
   },
   "file_extension": ".py",
   "mimetype": "text/x-python",
   "name": "python",
   "nbconvert_exporter": "python",
   "pygments_lexer": "ipython3",
   "version": "3.6.5"
  }
 },
 "nbformat": 4,
 "nbformat_minor": 2
}
